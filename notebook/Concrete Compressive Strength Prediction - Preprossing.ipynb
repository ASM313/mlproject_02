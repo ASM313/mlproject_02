{
 "cells": [
  {
   "cell_type": "markdown",
   "id": "1e233234",
   "metadata": {},
   "source": [
    "## Concrete Compressive Strength Prediction\n"
   ]
  },
  {
   "cell_type": "markdown",
   "id": "62e05101",
   "metadata": {},
   "source": [
    "#### Life cycle of this Project\n",
    "\n",
    "- Understanding the Problem Statement\n",
    "- Collection of Data\n",
    "- Data Checks to perform\n",
    "- Exploratory Data Analysis\n",
    "- Pre-Process the Data \n",
    "- Train the models\n",
    "- Choose best model"
   ]
  },
  {
   "cell_type": "markdown",
   "id": "dfcea981",
   "metadata": {},
   "source": [
    "### 1) Problem statement\n",
    "- The quality of concrete is determined by its compressive strength, which is measured\n",
    "    using a conventional crushing test on a concrete cylinder. The strength of the concrete\n",
    "    is also a vital aspect in achieving the requisite longevity. It will take 28 days to test\n",
    "    strength, which is a long period. So, what will we do now? We can save a lot of time and\n",
    "    effort by using Data Science to estimate how much quantity of which raw material we\n",
    "    need for acceptable compressive strength.\n",
    "\n",
    "### 2) Data Collection\n",
    "- Dataset Source - https://archive.ics.uci.edu/ml/datasets/Concrete+Compressive+Strength\n",
    "- The data consists of 9 columns and 1030 rows."
   ]
  },
  {
   "cell_type": "markdown",
   "id": "15b1355f",
   "metadata": {},
   "source": [
    "### 2.1 Import Data and Required Packages\n",
    "####  Importing Pandas, Numpy, Matplotlib, Seaborn and Warings Library."
   ]
  },
  {
   "cell_type": "code",
   "execution_count": 1,
   "id": "7eaae1d7",
   "metadata": {},
   "outputs": [],
   "source": [
    "import numpy as np\n",
    "import pandas as pd\n",
    "import seaborn as sns\n",
    "import matplotlib.pyplot as plt\n",
    "%matplotlib inline\n",
    "import warnings\n",
    "warnings.filterwarnings('ignore')"
   ]
  },
  {
   "cell_type": "markdown",
   "id": "3caeb0bb",
   "metadata": {},
   "source": [
    "#### Import the CSV Data as Pandas DataFrame"
   ]
  },
  {
   "cell_type": "code",
   "execution_count": 2,
   "id": "57907087",
   "metadata": {},
   "outputs": [],
   "source": [
    "df = pd.read_csv('data/concrete_data.csv')"
   ]
  },
  {
   "cell_type": "markdown",
   "id": "92c8fd8a",
   "metadata": {},
   "source": [
    "#### Show Top 5 Records"
   ]
  },
  {
   "cell_type": "code",
   "execution_count": 3,
   "id": "7d1a2a0b",
   "metadata": {},
   "outputs": [
    {
     "data": {
      "text/html": [
       "<div>\n",
       "<style scoped>\n",
       "    .dataframe tbody tr th:only-of-type {\n",
       "        vertical-align: middle;\n",
       "    }\n",
       "\n",
       "    .dataframe tbody tr th {\n",
       "        vertical-align: top;\n",
       "    }\n",
       "\n",
       "    .dataframe thead th {\n",
       "        text-align: right;\n",
       "    }\n",
       "</style>\n",
       "<table border=\"1\" class=\"dataframe\">\n",
       "  <thead>\n",
       "    <tr style=\"text-align: right;\">\n",
       "      <th></th>\n",
       "      <th>cement</th>\n",
       "      <th>blast_furnace_slag</th>\n",
       "      <th>fly_ash</th>\n",
       "      <th>water</th>\n",
       "      <th>superplasticizer</th>\n",
       "      <th>coarse_aggregate</th>\n",
       "      <th>fine_aggregate</th>\n",
       "      <th>age</th>\n",
       "      <th>concrete_compressive_strength</th>\n",
       "    </tr>\n",
       "  </thead>\n",
       "  <tbody>\n",
       "    <tr>\n",
       "      <th>0</th>\n",
       "      <td>540.0</td>\n",
       "      <td>0.0</td>\n",
       "      <td>0.0</td>\n",
       "      <td>162.0</td>\n",
       "      <td>2.5</td>\n",
       "      <td>1040.0</td>\n",
       "      <td>676.0</td>\n",
       "      <td>28</td>\n",
       "      <td>79.99</td>\n",
       "    </tr>\n",
       "    <tr>\n",
       "      <th>1</th>\n",
       "      <td>540.0</td>\n",
       "      <td>0.0</td>\n",
       "      <td>0.0</td>\n",
       "      <td>162.0</td>\n",
       "      <td>2.5</td>\n",
       "      <td>1055.0</td>\n",
       "      <td>676.0</td>\n",
       "      <td>28</td>\n",
       "      <td>61.89</td>\n",
       "    </tr>\n",
       "    <tr>\n",
       "      <th>2</th>\n",
       "      <td>332.5</td>\n",
       "      <td>142.5</td>\n",
       "      <td>0.0</td>\n",
       "      <td>228.0</td>\n",
       "      <td>0.0</td>\n",
       "      <td>932.0</td>\n",
       "      <td>594.0</td>\n",
       "      <td>270</td>\n",
       "      <td>40.27</td>\n",
       "    </tr>\n",
       "    <tr>\n",
       "      <th>3</th>\n",
       "      <td>332.5</td>\n",
       "      <td>142.5</td>\n",
       "      <td>0.0</td>\n",
       "      <td>228.0</td>\n",
       "      <td>0.0</td>\n",
       "      <td>932.0</td>\n",
       "      <td>594.0</td>\n",
       "      <td>365</td>\n",
       "      <td>41.05</td>\n",
       "    </tr>\n",
       "    <tr>\n",
       "      <th>4</th>\n",
       "      <td>198.6</td>\n",
       "      <td>132.4</td>\n",
       "      <td>0.0</td>\n",
       "      <td>192.0</td>\n",
       "      <td>0.0</td>\n",
       "      <td>978.4</td>\n",
       "      <td>825.5</td>\n",
       "      <td>360</td>\n",
       "      <td>44.30</td>\n",
       "    </tr>\n",
       "  </tbody>\n",
       "</table>\n",
       "</div>"
      ],
      "text/plain": [
       "   cement  blast_furnace_slag  fly_ash  water  superplasticizer  \\\n",
       "0   540.0                 0.0      0.0  162.0               2.5   \n",
       "1   540.0                 0.0      0.0  162.0               2.5   \n",
       "2   332.5               142.5      0.0  228.0               0.0   \n",
       "3   332.5               142.5      0.0  228.0               0.0   \n",
       "4   198.6               132.4      0.0  192.0               0.0   \n",
       "\n",
       "   coarse_aggregate  fine_aggregate   age  concrete_compressive_strength  \n",
       "0            1040.0            676.0   28                          79.99  \n",
       "1            1055.0            676.0   28                          61.89  \n",
       "2             932.0            594.0  270                          40.27  \n",
       "3             932.0            594.0  365                          41.05  \n",
       "4             978.4            825.5  360                          44.30  "
      ]
     },
     "execution_count": 3,
     "metadata": {},
     "output_type": "execute_result"
    }
   ],
   "source": [
    "df.head()"
   ]
  },
  {
   "cell_type": "markdown",
   "id": "56a49220",
   "metadata": {},
   "source": [
    "#### Shape of the dataset"
   ]
  },
  {
   "cell_type": "code",
   "execution_count": 4,
   "id": "417e5820",
   "metadata": {},
   "outputs": [
    {
     "data": {
      "text/plain": [
       "(1030, 9)"
      ]
     },
     "execution_count": 4,
     "metadata": {},
     "output_type": "execute_result"
    }
   ],
   "source": [
    "df.shape"
   ]
  },
  {
   "cell_type": "markdown",
   "id": "041aa39d",
   "metadata": {},
   "source": [
    "### 2.2 Dataset information"
   ]
  },
  {
   "cell_type": "markdown",
   "id": "7e3cff9d",
   "metadata": {},
   "source": [
    "- Cement (component 1) -- quantitative -- kg in a m3 mixture -- Input Variable\n",
    "\n",
    "- Blast Furnace Slag (component 2) -- quantitative -- kg in a m3 mixture -- Input Variable\n",
    "\n",
    "- Fly Ash (component 3) -- quantitative  -- kg in a m3 mixture -- Input Variable\n",
    "\n",
    "- Water  (component 4) -- quantitative  -- kg in a m3 mixture -- Input Variable\n",
    "\n",
    "- Superplasticizer (component 5) -- quantitative -- kg in a m3 mixture -- Input Variable\n",
    "\n",
    "- Coarse Aggregate  (component 6) -- quantitative -- kg in a m3 mixture -- Input Variable\n",
    "\n",
    "- Fine Aggregate (component 7)\t -- quantitative  -- kg in a m3 mixture -- Input Variable\n",
    "\n",
    "- Age -- quantitative  -- Day (1~365) -- Input Variable\n",
    "\n",
    "-- Concrete compressive strength -- quantitative -- MPa -- Output Variable\n"
   ]
  },
  {
   "cell_type": "markdown",
   "id": "27c4b61b",
   "metadata": {},
   "source": [
    "### 3. Data Checks to perform\n",
    "\n",
    "- Check Missing values\n",
    "- Check Duplicates\n",
    "- Check data type\n",
    "- Check the number of unique values of each column\n",
    "- Check statistics of data set\n",
    "- Check various categories present in the different categorical column"
   ]
  },
  {
   "cell_type": "markdown",
   "id": "c31d4123",
   "metadata": {},
   "source": [
    "### 3.1 Check Missing values"
   ]
  },
  {
   "cell_type": "code",
   "execution_count": 5,
   "id": "707d6a7b",
   "metadata": {},
   "outputs": [
    {
     "data": {
      "text/plain": [
       "cement                           0\n",
       "blast_furnace_slag               0\n",
       "fly_ash                          0\n",
       "water                            0\n",
       "superplasticizer                 0\n",
       "coarse_aggregate                 0\n",
       "fine_aggregate                   0\n",
       "age                              0\n",
       "concrete_compressive_strength    0\n",
       "dtype: int64"
      ]
     },
     "execution_count": 5,
     "metadata": {},
     "output_type": "execute_result"
    }
   ],
   "source": [
    "df.isna().sum()"
   ]
  },
  {
   "cell_type": "markdown",
   "id": "ce8f7b83",
   "metadata": {},
   "source": [
    "#### There are no missing values in the data set"
   ]
  },
  {
   "cell_type": "markdown",
   "id": "5840ff7f",
   "metadata": {},
   "source": [
    "### 3.2 Check Duplicates and Drop them from dataframe"
   ]
  },
  {
   "cell_type": "code",
   "execution_count": 20,
   "id": "ae16686e",
   "metadata": {},
   "outputs": [],
   "source": [
    "df = df.drop_duplicates()"
   ]
  },
  {
   "cell_type": "code",
   "execution_count": 21,
   "id": "d3f382db",
   "metadata": {},
   "outputs": [
    {
     "data": {
      "text/plain": [
       "(1005, 9)"
      ]
     },
     "execution_count": 21,
     "metadata": {},
     "output_type": "execute_result"
    }
   ],
   "source": [
    "df.shape"
   ]
  },
  {
   "cell_type": "markdown",
   "id": "30dfacc8",
   "metadata": {},
   "source": [
    "### 3.3 Check data types"
   ]
  },
  {
   "cell_type": "code",
   "execution_count": 22,
   "id": "25f95bc8",
   "metadata": {},
   "outputs": [
    {
     "name": "stdout",
     "output_type": "stream",
     "text": [
      "<class 'pandas.core.frame.DataFrame'>\n",
      "Int64Index: 1005 entries, 0 to 1029\n",
      "Data columns (total 9 columns):\n",
      " #   Column                         Non-Null Count  Dtype  \n",
      "---  ------                         --------------  -----  \n",
      " 0   cement                         1005 non-null   float64\n",
      " 1   blast_furnace_slag             1005 non-null   float64\n",
      " 2   fly_ash                        1005 non-null   float64\n",
      " 3   water                          1005 non-null   float64\n",
      " 4   superplasticizer               1005 non-null   float64\n",
      " 5   coarse_aggregate               1005 non-null   float64\n",
      " 6   fine_aggregate                 1005 non-null   float64\n",
      " 7   age                            1005 non-null   int64  \n",
      " 8   concrete_compressive_strength  1005 non-null   float64\n",
      "dtypes: float64(8), int64(1)\n",
      "memory usage: 78.5 KB\n"
     ]
    }
   ],
   "source": [
    "# Check Null and Dtypes\n",
    "df.info()"
   ]
  },
  {
   "cell_type": "markdown",
   "id": "0dbbf5b4",
   "metadata": {},
   "source": [
    "### 3.4 Checking the number of unique values of each column"
   ]
  },
  {
   "cell_type": "code",
   "execution_count": 23,
   "id": "2c2b61b6",
   "metadata": {},
   "outputs": [
    {
     "data": {
      "text/plain": [
       "cement                           278\n",
       "blast_furnace_slag               185\n",
       "fly_ash                          156\n",
       "water                            195\n",
       "superplasticizer                 111\n",
       "coarse_aggregate                 284\n",
       "fine_aggregate                   302\n",
       "age                               14\n",
       "concrete_compressive_strength    845\n",
       "dtype: int64"
      ]
     },
     "execution_count": 23,
     "metadata": {},
     "output_type": "execute_result"
    }
   ],
   "source": [
    "df.nunique()"
   ]
  },
  {
   "cell_type": "markdown",
   "id": "a4f6b022",
   "metadata": {},
   "source": [
    "### 3.5 Check statistics of data set"
   ]
  },
  {
   "cell_type": "code",
   "execution_count": 24,
   "id": "76c608dc",
   "metadata": {},
   "outputs": [
    {
     "data": {
      "text/html": [
       "<div>\n",
       "<style scoped>\n",
       "    .dataframe tbody tr th:only-of-type {\n",
       "        vertical-align: middle;\n",
       "    }\n",
       "\n",
       "    .dataframe tbody tr th {\n",
       "        vertical-align: top;\n",
       "    }\n",
       "\n",
       "    .dataframe thead th {\n",
       "        text-align: right;\n",
       "    }\n",
       "</style>\n",
       "<table border=\"1\" class=\"dataframe\">\n",
       "  <thead>\n",
       "    <tr style=\"text-align: right;\">\n",
       "      <th></th>\n",
       "      <th>cement</th>\n",
       "      <th>blast_furnace_slag</th>\n",
       "      <th>fly_ash</th>\n",
       "      <th>water</th>\n",
       "      <th>superplasticizer</th>\n",
       "      <th>coarse_aggregate</th>\n",
       "      <th>fine_aggregate</th>\n",
       "      <th>age</th>\n",
       "      <th>concrete_compressive_strength</th>\n",
       "    </tr>\n",
       "  </thead>\n",
       "  <tbody>\n",
       "    <tr>\n",
       "      <th>count</th>\n",
       "      <td>1005.000000</td>\n",
       "      <td>1005.000000</td>\n",
       "      <td>1005.000000</td>\n",
       "      <td>1005.000000</td>\n",
       "      <td>1005.000000</td>\n",
       "      <td>1005.000000</td>\n",
       "      <td>1005.000000</td>\n",
       "      <td>1005.000000</td>\n",
       "      <td>1005.000000</td>\n",
       "    </tr>\n",
       "    <tr>\n",
       "      <th>mean</th>\n",
       "      <td>278.631343</td>\n",
       "      <td>72.043483</td>\n",
       "      <td>55.536318</td>\n",
       "      <td>182.075323</td>\n",
       "      <td>6.033234</td>\n",
       "      <td>974.376816</td>\n",
       "      <td>772.688259</td>\n",
       "      <td>45.856716</td>\n",
       "      <td>35.250378</td>\n",
       "    </tr>\n",
       "    <tr>\n",
       "      <th>std</th>\n",
       "      <td>104.344261</td>\n",
       "      <td>86.170807</td>\n",
       "      <td>64.207969</td>\n",
       "      <td>21.339334</td>\n",
       "      <td>5.919967</td>\n",
       "      <td>77.579667</td>\n",
       "      <td>80.340435</td>\n",
       "      <td>63.734692</td>\n",
       "      <td>16.284815</td>\n",
       "    </tr>\n",
       "    <tr>\n",
       "      <th>min</th>\n",
       "      <td>102.000000</td>\n",
       "      <td>0.000000</td>\n",
       "      <td>0.000000</td>\n",
       "      <td>121.800000</td>\n",
       "      <td>0.000000</td>\n",
       "      <td>801.000000</td>\n",
       "      <td>594.000000</td>\n",
       "      <td>1.000000</td>\n",
       "      <td>2.330000</td>\n",
       "    </tr>\n",
       "    <tr>\n",
       "      <th>25%</th>\n",
       "      <td>190.700000</td>\n",
       "      <td>0.000000</td>\n",
       "      <td>0.000000</td>\n",
       "      <td>166.600000</td>\n",
       "      <td>0.000000</td>\n",
       "      <td>932.000000</td>\n",
       "      <td>724.300000</td>\n",
       "      <td>7.000000</td>\n",
       "      <td>23.520000</td>\n",
       "    </tr>\n",
       "    <tr>\n",
       "      <th>50%</th>\n",
       "      <td>265.000000</td>\n",
       "      <td>20.000000</td>\n",
       "      <td>0.000000</td>\n",
       "      <td>185.700000</td>\n",
       "      <td>6.100000</td>\n",
       "      <td>968.000000</td>\n",
       "      <td>780.000000</td>\n",
       "      <td>28.000000</td>\n",
       "      <td>33.800000</td>\n",
       "    </tr>\n",
       "    <tr>\n",
       "      <th>75%</th>\n",
       "      <td>349.000000</td>\n",
       "      <td>142.500000</td>\n",
       "      <td>118.300000</td>\n",
       "      <td>192.900000</td>\n",
       "      <td>10.000000</td>\n",
       "      <td>1031.000000</td>\n",
       "      <td>822.200000</td>\n",
       "      <td>56.000000</td>\n",
       "      <td>44.870000</td>\n",
       "    </tr>\n",
       "    <tr>\n",
       "      <th>max</th>\n",
       "      <td>540.000000</td>\n",
       "      <td>359.400000</td>\n",
       "      <td>200.100000</td>\n",
       "      <td>247.000000</td>\n",
       "      <td>32.200000</td>\n",
       "      <td>1145.000000</td>\n",
       "      <td>992.600000</td>\n",
       "      <td>365.000000</td>\n",
       "      <td>82.600000</td>\n",
       "    </tr>\n",
       "  </tbody>\n",
       "</table>\n",
       "</div>"
      ],
      "text/plain": [
       "            cement  blast_furnace_slag      fly_ash        water  \\\n",
       "count  1005.000000         1005.000000  1005.000000  1005.000000   \n",
       "mean    278.631343           72.043483    55.536318   182.075323   \n",
       "std     104.344261           86.170807    64.207969    21.339334   \n",
       "min     102.000000            0.000000     0.000000   121.800000   \n",
       "25%     190.700000            0.000000     0.000000   166.600000   \n",
       "50%     265.000000           20.000000     0.000000   185.700000   \n",
       "75%     349.000000          142.500000   118.300000   192.900000   \n",
       "max     540.000000          359.400000   200.100000   247.000000   \n",
       "\n",
       "       superplasticizer  coarse_aggregate  fine_aggregate           age  \\\n",
       "count       1005.000000       1005.000000      1005.000000  1005.000000   \n",
       "mean           6.033234        974.376816       772.688259    45.856716   \n",
       "std            5.919967         77.579667        80.340435    63.734692   \n",
       "min            0.000000        801.000000       594.000000     1.000000   \n",
       "25%            0.000000        932.000000       724.300000     7.000000   \n",
       "50%            6.100000        968.000000       780.000000    28.000000   \n",
       "75%           10.000000       1031.000000       822.200000    56.000000   \n",
       "max           32.200000       1145.000000       992.600000   365.000000   \n",
       "\n",
       "       concrete_compressive_strength  \n",
       "count                    1005.000000  \n",
       "mean                       35.250378  \n",
       "std                        16.284815  \n",
       "min                         2.330000  \n",
       "25%                        23.520000  \n",
       "50%                        33.800000  \n",
       "75%                        44.870000  \n",
       "max                        82.600000  "
      ]
     },
     "execution_count": 24,
     "metadata": {},
     "output_type": "execute_result"
    }
   ],
   "source": [
    "df.describe()"
   ]
  },
  {
   "cell_type": "markdown",
   "id": "9dc41207",
   "metadata": {},
   "source": [
    "#### Insight\n",
    "- From above description of data, all means are varies.\n",
    "- All standard deviations are also different.\n",
    "- While there is a minimum score  2.33 for concrete_compressive_strength and maximum 82.60"
   ]
  },
  {
   "cell_type": "markdown",
   "id": "e598bc93",
   "metadata": {},
   "source": [
    "### 4. Exploring Data ( Visualization )\n",
    "#### 4.1 Visualize average score distribution to make some conclusion. \n",
    "- Histogram\n",
    "- Kernel Distribution Function (KDE)"
   ]
  },
  {
   "cell_type": "markdown",
   "id": "f4726058",
   "metadata": {},
   "source": [
    "#### 4.1.1 Histogram & KDE"
   ]
  },
  {
   "cell_type": "code",
   "execution_count": 30,
   "id": "c2510266",
   "metadata": {},
   "outputs": [
    {
     "data": {
      "text/plain": [
       "<AxesSubplot:xlabel='concrete_compressive_strength', ylabel='Count'>"
      ]
     },
     "execution_count": 30,
     "metadata": {},
     "output_type": "execute_result"
    },
    {
     "data": {
      "image/png": "[encoded data removed]",
      "text/plain": [
       "<Figure size 1080x504 with 2 Axes>"
      ]
     },
     "metadata": {
      "needs_background": "light"
     },
     "output_type": "display_data"
    }
   ],
   "source": [
    "fig, axs = plt.subplots(1, 2, figsize=(15, 7))\n",
    "plt.subplot(121)\n",
    "sns.histplot(data=df,x='concrete_compressive_strength',bins=30,kde=True,color='g')\n",
    "# plt.subplot(122)\n",
    "# sns.histplot(data=df,x='concrete_compressive_strength',kde=True,hue='cement')\n",
    "# plt.show()"
   ]
  },
  {
   "cell_type": "code",
   "execution_count": 32,
   "id": "e7967c7a",
   "metadata": {},
   "outputs": [
    {
     "data": {
      "image/png": "[encoded data removed]",
      "text/plain": [
       "<Figure size 1080x504 with 2 Axes>"
      ]
     },
     "metadata": {
      "needs_background": "light"
     },
     "output_type": "display_data"
    }
   ],
   "source": [
    "fig, axs = plt.subplots(1, 2, figsize=(15, 7))\n",
    "plt.subplot(121)\n",
    "sns.histplot(data=df,x='concrete_compressive_strength',bins=30,kde=True,color='g')\n",
    "plt.subplot(122)\n",
    "sns.histplot(data=df,x='concrete_compressive_strength',kde=True,hue='age')\n",
    "plt.show()"
   ]
  },
  {
   "cell_type": "markdown",
   "id": "ab008237",
   "metadata": {},
   "source": [
    "#### 4.4 Feature Wise Visualization\n"
   ]
  },
  {
   "cell_type": "markdown",
   "id": "4069d6e6",
   "metadata": {},
   "source": [
    "#### 4.4.6 CHECKING OUTLIERS"
   ]
  },
  {
   "cell_type": "code",
   "execution_count": 39,
   "id": "62a813a5",
   "metadata": {},
   "outputs": [],
   "source": [
    "# plt.subplots(1,4,figsize=(16,5))\n",
    "# plt.subplot(141)\n",
    "# sns.boxplot(df['cement'],color='skyblue')\n",
    "# plt.subplot(142)\n",
    "# sns.boxplot(df['blast_furnace_slag'],color='hotpink')\n",
    "# plt.subplot(143)\n",
    "# sns.boxplot(df['fly_ash'],color='yellow')\n",
    "# plt.subplot(144)\n",
    "# sns.boxplot(df['water'],color='lightgreen')\n",
    "# plt.subplot(145)\n",
    "# sns.boxplot(df['superplasticizer'],color='black')\n",
    "# plt.subplot(146)\n",
    "# sns.boxplot(df['coarse_aggregate'],color='blue')\n",
    "# plt.subplot(147)\n",
    "# sns.boxplot(df['fine_aggregate'],color='orange')\n",
    "# plt.subplot(148)\n",
    "# sns.boxplot(df['age'],color='purple')\n",
    "# plt.subplot(149)\n",
    "# sns.boxplot(df['concrete_compressive_strength'],color='red')\n",
    "\n",
    "# plt.show()"
   ]
  }
 ],
 "metadata": {
  "kernelspec": {
   "display_name": "Python 3 (ipykernel)",
   "language": "python",
   "name": "python3"
  },
  "language_info": {
   "codemirror_mode": {
    "name": "ipython",
    "version": 3
   },
   "file_extension": ".py",
   "mimetype": "text/x-python",
   "name": "python",
   "nbconvert_exporter": "python",
   "pygments_lexer": "ipython3",
   "version": "3.9.7"
  },
  "vscode": {
   "interpreter": {
    "hash": "7f9dc718a552478e14f37d36e0ca2ac7de1ac15c04a40a415ea3abc3fe8a0a39"
   }
  }
 },
 "nbformat": 4,
 "nbformat_minor": 5
}
